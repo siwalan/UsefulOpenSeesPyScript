{
 "cells": [
  {
   "cell_type": "code",
   "execution_count": 47,
   "id": "71d40d03-3a97-4004-9232-bd6ad4e47770",
   "metadata": {},
   "outputs": [],
   "source": [
    "import math\n",
    "import openseespy.opensees as ops\n",
    "import opsvis as opsv\n",
    "import matplotlib.pyplot as plt"
   ]
  },
  {
   "cell_type": "code",
   "execution_count": 48,
   "id": "7445bac3-02f8-486d-a299-a1f0e6acf657",
   "metadata": {},
   "outputs": [],
   "source": [
    "ops.wipe()\n",
    "ops.model('basic','-ndm',2,'-ndf',3)"
   ]
  },
  {
   "cell_type": "code",
   "execution_count": 49,
   "id": "796d60d6-922a-4513-b795-9236ebf1787d",
   "metadata": {},
   "outputs": [],
   "source": [
    "def Boxsection(secID, matID, b,h,t, nfdw, nftw, nfbf, nftf,  orient=\"Strong\"):\n",
    "    \n",
    "    # Python Function to Create A Box Section Fiber\n",
    "    # Written by @siwalan\n",
    "    # Inspired by Wsection.tcl from Remo M. de Souza\n",
    "    # Last Modified : 22 June 2022\n",
    "    # input parameters\n",
    "    # secID - section ID number\n",
    "    # matID - material ID number \n",
    "    # b  = width of the box section - outer to outer\n",
    "    # h  = depth of the box section - outer to outer\n",
    "    # t  = thickness of box section\n",
    "\n",
    "    # nfdw = number of fibers along web depth \n",
    "    # nftw = number of fibers along web thickness\n",
    "    # nfbf = number of fibers along flange width\n",
    "    # nftf = number of fibers along flange thickness\n",
    "    \n",
    "    \n",
    "    if (orient == \"Strong\"):\n",
    "        hh = (h-t)\n",
    "        y1 = -h/2\n",
    "        y2 = -hh/2\n",
    "        y3 = hh/2\n",
    "        y4 = h/2\n",
    "        \n",
    "        bb = (b-t)\n",
    "        z1 = -b/2\n",
    "        z2 = -bb/2\n",
    "        z3 = bb/2\n",
    "        z4 = b/2\n",
    "        \n",
    "        \n",
    "        ops.section('Fiber',secID)\n",
    "        ops.patch('quad',matID, nfdw, nftw, *[y1,z1], *[y1,z4], *[y2,z4], *[y2,z1]);\n",
    "        ops.patch('quad',matID, nfbf, nftf, *[y2,z1], *[y2,z2], *[y3,z2], *[y3,z1]);\n",
    "        ops.patch('quad',matID, nfbf, nftf, *[y2,z3], *[y2,z4], *[y3,z4], *[y3,z3]);\n",
    "        ops.patch('quad',matID, nfdw, nftw, *[y3,z1], *[y3,z4], *[y4,z4], *[y4,z1]);\n",
    "    else:\n",
    "        bb = (b-t)\n",
    "        y1 = -b/2\n",
    "        y2 = -bb/2\n",
    "        y3 = bb/2\n",
    "        y4 = b/2\n",
    "        \n",
    "        hh = (h-t)\n",
    "        z1 = -h/2\n",
    "        z2 = -hh/2\n",
    "        z3 = hh/2\n",
    "        z4 = h/2\n",
    "        \n",
    "        ops.section('Fiber',secID)\n",
    "        ops.patch('quad',matID, nfdw, nftw, *[y1,z1], *[y1,z4], *[y2,z4], *[y2,z1]);\n",
    "        ops.patch('quad',matID, nfbf, nftf, *[y2,z1], *[y2,z2], *[y3,z2], *[y3,z1]);\n",
    "        ops.patch('quad',matID, nfbf, nftf, *[y2,z3], *[y2,z4], *[y3,z4], *[y3,z3]);\n",
    "        ops.patch('quad',matID, nfdw, nftw, *[y3,z1], *[y3,z4], *[y4,z4], *[y4,z1]);\n"
   ]
  },
  {
   "cell_type": "code",
   "execution_count": 72,
   "id": "40fc99f7-c7f2-48eb-81f6-9c32b9961651",
   "metadata": {},
   "outputs": [
    {
     "name": "stdout",
     "output_type": "stream",
     "text": [
      "\n",
      "Warning! Patch quad is non-convex or counter-clockwise defined or has at least 3 colinear points in line\n",
      "\n",
      "Warning! Patch quad is non-convex or counter-clockwise defined or has at least 3 colinear points in line\n",
      "\n",
      "Warning! Patch quad is non-convex or counter-clockwise defined or has at least 3 colinear points in line\n",
      "\n",
      "Warning! Patch quad is non-convex or counter-clockwise defined or has at least 3 colinear points in line\n"
     ]
    },
    {
     "data": {
      "image/png": "[encoded data removed]",
      "text/plain": [
       "<Figure size 432x288 with 1 Axes>"
      ]
     },
     "metadata": {
      "needs_background": "light"
     },
     "output_type": "display_data"
    }
   ],
   "source": [
    "b = 16.0*inch; h = 32*inch; t = 1.96*inch;\n",
    "\n",
    "hh = (h-2*t)\n",
    "y1 = -h/2\n",
    "y2 = -hh/2\n",
    "y3 = hh/2\n",
    "y4 = h/2\n",
    "\n",
    "bb = (b-2*t)\n",
    "z1 = -b/2\n",
    "z2 = -bb/2\n",
    "z3 = bb/2\n",
    "z4 = b/2\n",
    "\n",
    "nfdw, nftw, nfbf, nftf = [4,1,1,4]\n",
    "\n",
    "fib_sec_1 = [['section', 'Fiber', 1],\n",
    "         ['patch', 'quad',matID, nfdw, nftw, *[y1,z1], *[y1,z4], *[y2,z4], *[y2,z1]], \n",
    "         ['patch', 'quad',matID, nfbf, nftf, *[y2,z1], *[y2,z2], *[y3,z2], *[y3,z1]], \n",
    "         ['patch', 'quad',matID, nfbf, nftf, *[y2,z3], *[y2,z4], *[y3,z4], *[y3,z3]],\n",
    "         ['patch', 'quad',matID, nfdw, nftw, *[y3,z1], *[y3,z4], *[y4,z4], *[y4,z1]],\n",
    "         ]\n",
    "matcolor = ['r', 'lightgrey', 'gold', 'w', 'w', 'w']\n",
    "opsv.plot_fiber_section(fib_sec_1, matcolor=matcolor)\n",
    "plt.axis('equal')\n",
    "plt.show()"
   ]
  },
  {
   "cell_type": "code",
   "execution_count": 73,
   "id": "f5885100-68fe-416f-917e-15c9bb0f9586",
   "metadata": {},
   "outputs": [
    {
     "name": "stdout",
     "output_type": "stream",
     "text": [
      "\n",
      "Warning! Patch quad is non-convex or counter-clockwise defined or has at least 3 colinear points in line\n",
      "\n",
      "Warning! Patch quad is non-convex or counter-clockwise defined or has at least 3 colinear points in line\n",
      "\n",
      "Warning! Patch quad is non-convex or counter-clockwise defined or has at least 3 colinear points in line\n",
      "\n",
      "Warning! Patch quad is non-convex or counter-clockwise defined or has at least 3 colinear points in line\n"
     ]
    },
    {
     "data": {
      "image/png": "[encoded data removed]",
      "text/plain": [
       "<Figure size 432x288 with 1 Axes>"
      ]
     },
     "metadata": {
      "needs_background": "light"
     },
     "output_type": "display_data"
    }
   ],
   "source": [
    "b = 16.0*inch; h = 32*inch; t = 1.18*inch;\n",
    "\n",
    "bb = (b-2*t)\n",
    "y1 = -b/2\n",
    "y2 = -bb/2\n",
    "y3 = bb/2\n",
    "y4 = b/2\n",
    "\n",
    "hh = (h-2*t)\n",
    "z1 = -h/2\n",
    "z2 = -hh/2\n",
    "z3 = hh/2\n",
    "z4 = h/2\n",
    "\n",
    "nfdw, nftw, nfbf, nftf = [4,1,1,4]\n",
    "\n",
    "fib_sec_1 = [['section', 'Fiber', 1],\n",
    "         ['patch', 'quad',matID, nfdw, nftw, *[y1,z1], *[y1,z4], *[y2,z4], *[y2,z1]], \n",
    "         ['patch', 'quad',matID, nfbf, nftf, *[y2,z1], *[y2,z2], *[y3,z2], *[y3,z1]], \n",
    "         ['patch', 'quad',matID, nfbf, nftf, *[y2,z3], *[y2,z4], *[y3,z4], *[y3,z3]],\n",
    "         ['patch', 'quad',matID, nfdw, nftw, *[y3,z1], *[y3,z4], *[y4,z4], *[y4,z1]],\n",
    "         ]\n",
    "matcolor = ['r', 'lightgrey', 'gold', 'w', 'w', 'w']\n",
    "opsv.plot_fiber_section(fib_sec_1, matcolor=matcolor)\n",
    "plt.axis('equal')\n",
    "plt.show()"
   ]
  },
  {
   "cell_type": "code",
   "execution_count": 56,
   "id": "8a4c0e54-86c5-41e8-9ba7-ebf28191a720",
   "metadata": {},
   "outputs": [],
   "source": [
    "meter = 1;\n",
    "mm = 1/1000*meter;\n",
    "Newton = 1\n",
    "inch = 25.4*mm;\n",
    "kip = 4448.2216*Newton;\n",
    "sec = 1;\n",
    "\n",
    "# Dependent units\n",
    "sq_in = inch*inch;\n",
    "ksi = kip/sq_in;\n",
    "ft = 12*inch;\n",
    "\n",
    "# Constants\n",
    "pi = math.acos(-1);\n",
    "\n",
    "LCol = 13*ft;\n",
    "LBeam = 30*ft;\n",
    "\n",
    "ops.node(1,0,0)\n",
    "ops.node(2,0,LCol)\n",
    "    \n",
    "## Material for Column\n",
    "FyCol = 345/(1000**-2)  ;\n",
    "EsCol=200000/(1000**-2)  ;\n",
    "nu = 0.3\n",
    "b = 0.04\n",
    "ops.uniaxialMaterial('Steel01',1,FyCol,EsCol,b)"
   ]
  },
  {
   "cell_type": "code",
   "execution_count": 57,
   "id": "ece9696d-4756-4814-b38f-5f2fe3da23c6",
   "metadata": {},
   "outputs": [],
   "source": [
    "nfdw, nftw, nfbf, nftf = [4,1,1,4]\n",
    "b = 16.0*inch; h = 16*inch; t = 1.18*inch;\n",
    "Boxsection(1,1,b, h, t,nfdw, nftw, nfbf, nftf)\n",
    "matID = 1"
   ]
  },
  {
   "cell_type": "code",
   "execution_count": null,
   "id": "2b35b16e-9838-4f6f-879a-10a17d7f3007",
   "metadata": {},
   "outputs": [],
   "source": []
  }
 ],
 "metadata": {
  "kernelspec": {
   "display_name": "Python 3 (ipykernel)",
   "language": "python",
   "name": "python3"
  },
  "language_info": {
   "codemirror_mode": {
    "name": "ipython",
    "version": 3
   },
   "file_extension": ".py",
   "mimetype": "text/x-python",
   "name": "python",
   "nbconvert_exporter": "python",
   "pygments_lexer": "ipython3",
   "version": "3.10.4"
  }
 },
 "nbformat": 4,
 "nbformat_minor": 5
}
